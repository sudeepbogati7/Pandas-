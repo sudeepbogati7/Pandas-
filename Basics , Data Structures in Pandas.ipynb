{
 "cells": [
  {
   "cell_type": "markdown",
   "id": "622a4e48",
   "metadata": {},
   "source": [
    "## Data structure in Pandas\n"
   ]
  },
  {
   "cell_type": "markdown",
   "id": "b9daf208",
   "metadata": {},
   "source": [
    "##### Series Structure "
   ]
  },
  {
   "cell_type": "code",
   "execution_count": 4,
   "id": "47920a6d",
   "metadata": {},
   "outputs": [],
   "source": [
    "import pandas as pd"
   ]
  },
  {
   "cell_type": "code",
   "execution_count": 12,
   "id": "d3379a2e",
   "metadata": {
    "scrolled": false
   },
   "outputs": [
    {
     "name": "stdout",
     "output_type": "stream",
     "text": [
      "a     2.0\n",
      "e     4.0\n",
      "i     6.0\n",
      "o     8.0\n",
      "u    10.0\n",
      "Name: python, dtype: float64\n",
      "<class 'pandas.core.series.Series'>\n",
      "10.0\n"
     ]
    }
   ],
   "source": [
    "x = [2,4,6,8,10]\n",
    "var = pd.Series(x, index = ['a','e','i', 'o','u'], name = \"python\", dtype = 'float') # indexing can also be customized ,,,, and name parameter///// data type can be changed as in numpy \n",
    "\n",
    "print(var)\n",
    "\n",
    "print(type(var))    # to know the type of variable wheather it is pandas series or not \n",
    "\n",
    "\n",
    "# also data can be indexed easily,,,,,,,,\n",
    "\n",
    "print(var[4])  # hence it show the 4th index element "
   ]
  },
  {
   "cell_type": "code",
   "execution_count": 13,
   "id": "cf5bbb86",
   "metadata": {},
   "outputs": [
    {
     "data": {
      "text/plain": [
       "name     [sudeep, anurag, deepak, sunil]\n",
       "class                   [12, 13, 11, 10]\n",
       "rank                        [1, 2, 3, 4]\n",
       "dtype: object"
      ]
     },
     "execution_count": 13,
     "metadata": {},
     "output_type": "execute_result"
    }
   ],
   "source": [
    "# DICTIONARY / TUPLE can also be used intead of array \n",
    "\n",
    "# using DICTIONARY ______________________________\n",
    "\n",
    "dic = {\"name\":['sudeep','anurag','deepak','sunil'],\n",
    "      \"class\":[12,13,11,10],\n",
    "      \"rank\":[1,2,3,4]}\n",
    "var1 = pd.Series(dic)\n",
    "var1"
   ]
  },
  {
   "cell_type": "code",
   "execution_count": 16,
   "id": "f02bc635",
   "metadata": {},
   "outputs": [
    {
     "data": {
      "text/plain": [
       "1    12.0\n",
       "2    12.0\n",
       "3    12.0\n",
       "4    12.0\n",
       "5    12.0\n",
       "6    12.0\n",
       "7    12.0\n",
       "8    12.0\n",
       "9    12.0\n",
       "dtype: float64"
      ]
     },
     "execution_count": 16,
     "metadata": {},
     "output_type": "execute_result"
    }
   ],
   "source": [
    "# ---------same data can be passed with many indexes----------\n",
    "\n",
    "s= pd.Series(12,index= [1,2,3,4,5,6,7,8,9],dtype= 'float')\n",
    "s\n"
   ]
  },
  {
   "cell_type": "code",
   "execution_count": 19,
   "id": "b6f102fe",
   "metadata": {},
   "outputs": [
    {
     "name": "stdout",
     "output_type": "stream",
     "text": [
      "1    23.0\n",
      "2    23.0\n",
      "3    23.0\n",
      "4    23.0\n",
      "5    23.0\n",
      "6     NaN\n",
      "7     NaN\n",
      "8     NaN\n",
      "9     NaN\n",
      "dtype: float64\n"
     ]
    }
   ],
   "source": [
    "s1= pd.Series(12,index= [1,2,3,4,5,6,7,8,9])\n",
    "s2= pd.Series(11,index= [1,2,3,4,5])\n",
    "\n",
    "print(s1+s2)  # it can be concatinated although the indexes are different ------ a error in NUMPY \n"
   ]
  },
  {
   "cell_type": "markdown",
   "id": "acabe146",
   "metadata": {},
   "source": [
    "# Data Frame Structure (2D structure in Pandas)"
   ]
  },
  {
   "cell_type": "code",
   "execution_count": 21,
   "id": "6243d0ae",
   "metadata": {},
   "outputs": [
    {
     "name": "stdout",
     "output_type": "stream",
     "text": [
      "<class 'pandas.core.frame.DataFrame'>\n"
     ]
    }
   ],
   "source": [
    "list = [1,2,3,4,5,6]\n",
    "df = pd.DataFrame(list)\n",
    "df\n",
    "print(type(df))"
   ]
  },
  {
   "cell_type": "code",
   "execution_count": 30,
   "id": "758ae6e4",
   "metadata": {},
   "outputs": [
    {
     "name": "stdout",
     "output_type": "stream",
     "text": [
      "anurag\n",
      "     name  420\n",
      "0  sudeep    5\n",
      "1  anurag    6\n",
      "2   kamal    7\n",
      "3  salman    8\n",
      "4   sunny    9\n",
      "<class 'pandas.core.frame.DataFrame'>\n"
     ]
    }
   ],
   "source": [
    "# ______illustratin' using dictionary \n",
    "\n",
    "dict = {\"name\": ['sudeep','anurag','kamal','salman','sunny'],\n",
    "       \"rollno\": [1,6,9,10,5],\n",
    "       420 : [5,6,7,8,9]}\n",
    "\n",
    " \n",
    "df1 = pd.DataFrame(dict, columns= [\"name\",420]) # colums can also be customized our visualized \n",
    "\n",
    "print(df1[\"name\"][1]) #accessing the specific element\n",
    "\n",
    "print(df1)\n",
    "print(type(df1))"
   ]
  },
  {
   "cell_type": "markdown",
   "id": "f53e98ea",
   "metadata": {},
   "source": [
    "##### Using List of List"
   ]
  },
  {
   "cell_type": "code",
   "execution_count": 31,
   "id": "a74b3182",
   "metadata": {},
   "outputs": [
    {
     "name": "stdout",
     "output_type": "stream",
     "text": [
      "    0   1   2   3   4\n",
      "0   1   2   3   4   5\n",
      "1  21  22  23  24  25\n"
     ]
    }
   ],
   "source": [
    "list_1 = [[1,2,3,4,5],[21,22,23,24,25]]\n",
    "\n",
    "df2 = pd.DataFrame(list_1)\n",
    "print(df2)"
   ]
  },
  {
   "cell_type": "markdown",
   "id": "a0dda197",
   "metadata": {},
   "source": [
    "## A DataFrame using two or more Series"
   ]
  },
  {
   "cell_type": "code",
   "execution_count": 32,
   "id": "82d17965",
   "metadata": {},
   "outputs": [
    {
     "name": "stdout",
     "output_type": "stream",
     "text": [
      "   s   r\n",
      "0  5  11\n",
      "1  6  12\n",
      "2  7  13\n",
      "3  8  14\n",
      "4  9  15\n",
      "<class 'pandas.core.frame.DataFrame'>\n"
     ]
    }
   ],
   "source": [
    "sr ={\"s\" : pd.Series([5,6,7,8,9]), \"r\":pd.Series([11,12,13,14,15])}\n",
    "df3 = pd.DataFrame(sr)\n",
    "print(df3)\n",
    "print(type(df3))"
   ]
  },
  {
   "cell_type": "code",
   "execution_count": null,
   "id": "b6a9fc1a",
   "metadata": {},
   "outputs": [],
   "source": []
  }
 ],
 "metadata": {
  "kernelspec": {
   "display_name": "Python 3 (ipykernel)",
   "language": "python",
   "name": "python3"
  },
  "language_info": {
   "codemirror_mode": {
    "name": "ipython",
    "version": 3
   },
   "file_extension": ".py",
   "mimetype": "text/x-python",
   "name": "python",
   "nbconvert_exporter": "python",
   "pygments_lexer": "ipython3",
   "version": "3.9.13"
  }
 },
 "nbformat": 4,
 "nbformat_minor": 5
}
