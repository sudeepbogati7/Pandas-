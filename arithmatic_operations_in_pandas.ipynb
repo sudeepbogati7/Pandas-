{
 "cells": [
  {
   "cell_type": "markdown",
   "id": "53777dfc",
   "metadata": {},
   "source": [
    "# Arithmatic Operations"
   ]
  },
  {
   "cell_type": "code",
   "execution_count": 2,
   "id": "09f790a0",
   "metadata": {},
   "outputs": [],
   "source": [
    "import pandas as pd"
   ]
  },
  {
   "cell_type": "code",
   "execution_count": 5,
   "id": "dfb526e5",
   "metadata": {
    "scrolled": true
   },
   "outputs": [
    {
     "name": "stdout",
     "output_type": "stream",
     "text": [
      "   A   B\n",
      "0  1   6\n",
      "1  2   7\n",
      "2  3   8\n",
      "3  4   9\n",
      "4  5  10\n"
     ]
    }
   ],
   "source": [
    "var = pd.DataFrame({\"A\":[1,2,3,4,5], \"B\": [6,7,8,9,10]})\n",
    "print(var)"
   ]
  },
  {
   "cell_type": "code",
   "execution_count": 7,
   "id": "7e243fc0",
   "metadata": {},
   "outputs": [
    {
     "name": "stdout",
     "output_type": "stream",
     "text": [
      "   A   B   C\n",
      "0  1   6   7\n",
      "1  2   7   9\n",
      "2  3   8  11\n",
      "3  4   9  13\n",
      "4  5  10  15\n"
     ]
    }
   ],
   "source": [
    "## ____________Addition ________________\n",
    "\n",
    "var[\"C\"] = var[\"A\"]+ var[\"B\"]\n",
    "print(var)"
   ]
  },
  {
   "cell_type": "code",
   "execution_count": 8,
   "id": "b419040d",
   "metadata": {},
   "outputs": [
    {
     "name": "stdout",
     "output_type": "stream",
     "text": [
      "   A   B  C\n",
      "0  1   6 -5\n",
      "1  2   7 -5\n",
      "2  3   8 -5\n",
      "3  4   9 -5\n",
      "4  5  10 -5\n"
     ]
    }
   ],
   "source": [
    "## ____________Subtraction ________________\n",
    "\n",
    "var[\"C\"] = var[\"A\"]- var[\"B\"]\n",
    "print(var)"
   ]
  },
  {
   "cell_type": "code",
   "execution_count": 9,
   "id": "4b262554",
   "metadata": {},
   "outputs": [
    {
     "name": "stdout",
     "output_type": "stream",
     "text": [
      "   A   B   C\n",
      "0  1   6   6\n",
      "1  2   7  14\n",
      "2  3   8  24\n",
      "3  4   9  36\n",
      "4  5  10  50\n"
     ]
    }
   ],
   "source": [
    "## ____________Multiplication ________________\n",
    "\n",
    "var[\"C\"] = var[\"A\"]* var[\"B\"]\n",
    "print(var)"
   ]
  },
  {
   "cell_type": "code",
   "execution_count": 10,
   "id": "b21eddf2",
   "metadata": {},
   "outputs": [
    {
     "name": "stdout",
     "output_type": "stream",
     "text": [
      "   A   B         C\n",
      "0  1   6  0.166667\n",
      "1  2   7  0.285714\n",
      "2  3   8  0.375000\n",
      "3  4   9  0.444444\n",
      "4  5  10  0.500000\n"
     ]
    }
   ],
   "source": [
    "## ____________Division ________________\n",
    "\n",
    "var[\"C\"] = var[\"A\"] /var[\"B\"]\n",
    "print(var)"
   ]
  },
  {
   "cell_type": "markdown",
   "id": "97e01006",
   "metadata": {},
   "source": [
    "### Boolean Operatios "
   ]
  },
  {
   "cell_type": "code",
   "execution_count": 11,
   "id": "9a24d4b4",
   "metadata": {},
   "outputs": [
    {
     "name": "stdout",
     "output_type": "stream",
     "text": [
      "    X    Y\n",
      "0  10   60\n",
      "1  20   70\n",
      "2  30   80\n",
      "3  40   90\n",
      "4  50  100\n"
     ]
    }
   ],
   "source": [
    "var1 = pd.DataFrame({\"X\": [10,20,30,40,50],\"Y\":[60,70,80,90,100]})\n",
    "print(var1)"
   ]
  },
  {
   "cell_type": "code",
   "execution_count": 14,
   "id": "1924d75a",
   "metadata": {},
   "outputs": [
    {
     "data": {
      "text/html": [
       "<div>\n",
       "<style scoped>\n",
       "    .dataframe tbody tr th:only-of-type {\n",
       "        vertical-align: middle;\n",
       "    }\n",
       "\n",
       "    .dataframe tbody tr th {\n",
       "        vertical-align: top;\n",
       "    }\n",
       "\n",
       "    .dataframe thead th {\n",
       "        text-align: right;\n",
       "    }\n",
       "</style>\n",
       "<table border=\"1\" class=\"dataframe\">\n",
       "  <thead>\n",
       "    <tr style=\"text-align: right;\">\n",
       "      <th></th>\n",
       "      <th>X</th>\n",
       "      <th>Y</th>\n",
       "      <th>py</th>\n",
       "      <th>py_1</th>\n",
       "    </tr>\n",
       "  </thead>\n",
       "  <tbody>\n",
       "    <tr>\n",
       "      <th>0</th>\n",
       "      <td>10</td>\n",
       "      <td>60</td>\n",
       "      <td>True</td>\n",
       "      <td>False</td>\n",
       "    </tr>\n",
       "    <tr>\n",
       "      <th>1</th>\n",
       "      <td>20</td>\n",
       "      <td>70</td>\n",
       "      <td>True</td>\n",
       "      <td>False</td>\n",
       "    </tr>\n",
       "    <tr>\n",
       "      <th>2</th>\n",
       "      <td>30</td>\n",
       "      <td>80</td>\n",
       "      <td>True</td>\n",
       "      <td>False</td>\n",
       "    </tr>\n",
       "    <tr>\n",
       "      <th>3</th>\n",
       "      <td>40</td>\n",
       "      <td>90</td>\n",
       "      <td>False</td>\n",
       "      <td>True</td>\n",
       "    </tr>\n",
       "    <tr>\n",
       "      <th>4</th>\n",
       "      <td>50</td>\n",
       "      <td>100</td>\n",
       "      <td>False</td>\n",
       "      <td>True</td>\n",
       "    </tr>\n",
       "  </tbody>\n",
       "</table>\n",
       "</div>"
      ],
      "text/plain": [
       "    X    Y     py   py_1\n",
       "0  10   60   True  False\n",
       "1  20   70   True  False\n",
       "2  30   80   True  False\n",
       "3  40   90  False   True\n",
       "4  50  100  False   True"
      ]
     },
     "execution_count": 14,
     "metadata": {},
     "output_type": "execute_result"
    }
   ],
   "source": [
    "var1[\"py\"] = var1[\"X\"] <= 30\n",
    "\n",
    "var1[\"py_1\"] = var1[\"Y\"] >= 90\n",
    "var1"
   ]
  },
  {
   "cell_type": "markdown",
   "id": "7637072a",
   "metadata": {},
   "source": [
    "# That's it about arithmatic operations \n",
    "\n",
    "### keep learning !!\n",
    "\n",
    "##### sudeep_bogati"
   ]
  },
  {
   "cell_type": "code",
   "execution_count": null,
   "id": "afe01d66",
   "metadata": {},
   "outputs": [],
   "source": []
  }
 ],
 "metadata": {
  "kernelspec": {
   "display_name": "Python 3 (ipykernel)",
   "language": "python",
   "name": "python3"
  },
  "language_info": {
   "codemirror_mode": {
    "name": "ipython",
    "version": 3
   },
   "file_extension": ".py",
   "mimetype": "text/x-python",
   "name": "python",
   "nbconvert_exporter": "python",
   "pygments_lexer": "ipython3",
   "version": "3.9.13"
  }
 },
 "nbformat": 4,
 "nbformat_minor": 5
}
